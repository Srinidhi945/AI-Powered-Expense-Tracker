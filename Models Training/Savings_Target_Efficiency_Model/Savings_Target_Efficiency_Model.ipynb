{
 "cells": [
  {
   "cell_type": "code",
   "execution_count": 1,
   "metadata": {
    "id": "_uuzg9aVz1Ra"
   },
   "outputs": [],
   "source": [
    "import pandas as pd\n",
    "from sklearn.model_selection import train_test_split, cross_val_score\n",
    "from sklearn.tree import DecisionTreeClassifier\n",
    "from sklearn.metrics import accuracy_score, classification_report, confusion_matrix\n",
    "import matplotlib.pyplot as plt\n",
    "import seaborn as sns\n",
    "import joblib"
   ]
  },
  {
   "cell_type": "code",
   "execution_count": 2,
   "metadata": {
    "id": "nzoCssPW0HZm"
   },
   "outputs": [],
   "source": [
    "file_path=r\"C:\\Users\\sneha\\Downloads\\COE_PROJ\\Data\\cleaned_dataset.csv\"\n",
    "def preprocess_data(file_path):\n",
    "    df = pd.read_csv(file_path)\n",
    "    model_data = df[['Income', 'Disposable_Income', 'Essential_Expenses', 'Non_Essential_Expenses',\n",
    "                     'Total_Expenses_to_Income_Ratio', 'Desired_Savings_Percentage', 'Savings_Efficiency',\n",
    "                     'Potential_Savings_Groceries', 'Potential_Savings_Transport',\n",
    "                     'Potential_Savings_Eating_Out', 'Potential_Savings_Entertainment']].copy()\n",
    "\n",
    "    model_data['Calculated_Savings_Efficiency'] = (\n",
    "    model_data['Disposable_Income'] / (model_data['Income'] * model_data['Desired_Savings_Percentage'])).clip(0, 1)\n",
    "\n",
    "    # Create target variable\n",
    "    model_data['Savings_Target_Achieved'] = (\n",
    "        (model_data['Calculated_Savings_Efficiency'] >= model_data['Desired_Savings_Percentage'] * 0.5) |\n",
    "        (model_data['Disposable_Income'] >= model_data['Income'] * 0.1) |\n",
    "        (model_data['Total_Expenses_to_Income_Ratio'] <= 0.7) |\n",
    "        (model_data[['Potential_Savings_Groceries', 'Potential_Savings_Transport',\n",
    "                     'Potential_Savings_Eating_Out', 'Potential_Savings_Entertainment']].sum(axis=1) > 500)\n",
    "    ).astype(int)\n",
    "\n",
    "    return model_data"
   ]
  },
  {
   "cell_type": "code",
   "execution_count": 3,
   "metadata": {
    "id": "lbZdY-_lG28W"
   },
   "outputs": [],
   "source": [
    "def train_model(model_data):\n",
    "    X = model_data[['Income', 'Disposable_Income', 'Essential_Expenses', 'Non_Essential_Expenses',\n",
    "                    'Total_Expenses_to_Income_Ratio', 'Desired_Savings_Percentage', 'Calculated_Savings_Efficiency',\n",
    "                    'Potential_Savings_Groceries', 'Potential_Savings_Transport',\n",
    "                    'Potential_Savings_Eating_Out', 'Potential_Savings_Entertainment']]\n",
    "    y = model_data['Savings_Target_Achieved']\n",
    "\n",
    "    X_train, X_test, y_train, y_test = train_test_split(X, y, test_size=0.2, random_state=42, stratify=y)\n",
    "\n",
    "    dt_model = DecisionTreeClassifier(random_state=42, max_depth=5, class_weight=\"balanced\")\n",
    "    dt_model.fit(X_train, y_train)\n",
    "\n",
    "    joblib.dump(dt_model, 'decision_tree_model.pkl')\n",
    "    print(\"Model saved as 'decision_tree_model.pkl'\")\n",
    "\n",
    "    return dt_model, X_train, X_test, y_train, y_test  # Ensure five values are returned"
   ]
  },
  {
   "cell_type": "code",
   "execution_count": 4,
   "metadata": {
    "id": "twLe2xsWG6C_"
   },
   "outputs": [],
   "source": [
    "def evaluate_model(model, X_test, y_test, model_data, feature_columns):\n",
    "    y_pred = model.predict(X_test)\n",
    "\n",
    "    with open(\"eval_metrics.txt\", \"w\") as file:\n",
    "        accuracy = accuracy_score(y_test, y_pred)\n",
    "        classification = classification_report(y_test, y_pred)\n",
    "        confusion = confusion_matrix(y_test, y_pred)\n",
    "\n",
    "        file.write(f\"Model Accuracy: {accuracy:.4f}\\n\")\n",
    "        file.write(\"\\nClassification Report:\\n\")\n",
    "        file.write(classification + \"\\n\")\n",
    "        file.write(\"\\nConfusion Matrix:\\n\")\n",
    "        file.write(str(confusion) + \"\\n\\n\")\n",
    "\n",
    "        print(f\"Model Accuracy: {accuracy:.4f}\")\n",
    "        print(\"\\nClassification Report:\\n\", classification)\n",
    "        print(\"\\nConfusion Matrix:\\n\", confusion)\n",
    "\n",
    "        importance = model.feature_importances_\n",
    "        importance_df = pd.DataFrame({'Feature': feature_columns, 'Importance': importance})\n",
    "        importance_df.sort_values(by='Importance', ascending=False, inplace=True)\n",
    "\n",
    "        file.write(\"Feature Importance:\\n\")\n",
    "        file.write(importance_df.to_string(index=False) + \"\\n\")\n",
    "\n",
    "        print(\"\\nFeature Importance:\\n\", importance_df)\n",
    "\n",
    "        plt.figure(figsize=(8, 5))\n",
    "        plt.barh(importance_df['Feature'], importance_df['Importance'], color='skyblue')\n",
    "        plt.title(\"Feature Importance\")\n",
    "        plt.xlabel(\"Importance Score\")\n",
    "        plt.ylabel(\"Features\")\n",
    "        plt.show()\n",
    "\n",
    "        print(\"\\nSavings Efficiency Scores:\")\n",
    "        print(model_data[['Income', 'Calculated_Savings_Efficiency']].head())"
   ]
  },
  {
   "cell_type": "code",
   "execution_count": 5,
   "metadata": {
    "id": "idSNxg4aG8RX"
   },
   "outputs": [],
   "source": [
    "def predict_new_data(file_path):\n",
    "    dt_model = joblib.load('decision_tree_model.pkl')\n",
    "    model_data = preprocess_data(file_path)\n",
    "\n",
    "    X = model_data[['Income', 'Disposable_Income', 'Essential_Expenses', 'Non_Essential_Expenses',\n",
    "                    'Total_Expenses_to_Income_Ratio', 'Desired_Savings_Percentage', 'Calculated_Savings_Efficiency',\n",
    "                    'Potential_Savings_Groceries', 'Potential_Savings_Transport',\n",
    "                    'Potential_Savings_Eating_Out', 'Potential_Savings_Entertainment']]\n",
    "\n",
    "    model_data['Predicted_Savings_Target_Achieved'] = dt_model.predict(X)\n",
    "\n",
    "    # Save predictions including Savings Efficiency Score\n",
    "    model_data[['Savings_Target_Achieved', 'Predicted_Savings_Target_Achieved', 'Calculated_Savings_Efficiency']].to_csv('predictions.csv', index=False)\n",
    "    print(\"Predictions saved to 'predictions.csv' with Savings Efficiency Score.\")"
   ]
  },
  {
   "cell_type": "code",
   "execution_count": 6,
   "metadata": {
    "colab": {
     "base_uri": "https://localhost:8080/"
    },
    "id": "c6PZ3nQwHlJc",
    "outputId": "5b717182-0fa5-4417-eb19-2d324ae13c03"
   },
   "outputs": [
    {
     "name": "stdout",
     "output_type": "stream",
     "text": [
      "          Income  Disposable_Income  Essential_Expenses  \\\n",
      "0   44637.249636       11265.627707        24508.650001   \n",
      "1   26858.596592        9676.818733        10953.658450   \n",
      "2   50367.605084       13891.450624        24027.439185   \n",
      "3  101455.600247       31617.953615        47417.599430   \n",
      "4   24875.283548        6265.700532        13383.780612   \n",
      "\n",
      "   Non_Essential_Expenses  Total_Expenses_to_Income_Ratio  \\\n",
      "0             4019.511102                        0.698187   \n",
      "1             2263.854847                        0.607338   \n",
      "2             3865.492522                        0.680484   \n",
      "3            10424.499110                        0.640164   \n",
      "4             1868.524377                        0.722552   \n",
      "\n",
      "   Desired_Savings_Percentage  Savings_Efficiency  \\\n",
      "0                   13.890948            0.252382   \n",
      "1                    7.160376            0.360288   \n",
      "2                   13.997808            0.275801   \n",
      "3                   16.455440            0.311643   \n",
      "4                    7.533982            0.251885   \n",
      "\n",
      "   Potential_Savings_Groceries  Potential_Savings_Transport  \\\n",
      "0                  1685.696222                   328.895281   \n",
      "1                   540.306561                   119.347139   \n",
      "2                  1466.073984                   473.549752   \n",
      "3                  1875.932770                   762.020789   \n",
      "4                   788.953124                    68.160766   \n",
      "\n",
      "   Potential_Savings_Eating_Out  Potential_Savings_Entertainment  \\\n",
      "0                    465.769172                       195.151320   \n",
      "1                    141.866089                       234.131168   \n",
      "2                    410.857129                       459.965256   \n",
      "3                   1241.017448                       320.190594   \n",
      "4                     61.712505                       187.173750   \n",
      "\n",
      "   Calculated_Savings_Efficiency  Savings_Target_Achieved  \n",
      "0                       0.018169                        1  \n",
      "1                       0.050317                        1  \n",
      "2                       0.019703                        1  \n",
      "3                       0.018939                        1  \n",
      "4                       0.033433                        1  \n"
     ]
    }
   ],
   "source": [
    "data_path = r\"C:\\Users\\sneha\\Downloads\\COE_PROJ\\Data\\cleaned_dataset.csv\" # Update with your dataset's location\n",
    "model_data = preprocess_data(data_path)    # Preprocess and get the structured data\n",
    "print(model_data.head())                   # Preview the processed data"
   ]
  },
  {
   "cell_type": "code",
   "execution_count": 7,
   "metadata": {
    "colab": {
     "base_uri": "https://localhost:8080/"
    },
    "id": "mAY0Xh6o-DSk",
    "outputId": "c221af3b-656b-4caf-af21-667191ecc490"
   },
   "outputs": [
    {
     "name": "stdout",
     "output_type": "stream",
     "text": [
      "Model saved as 'decision_tree_model.pkl'\n"
     ]
    }
   ],
   "source": [
    "dt_model, X_train, X_test, y_train, y_test = train_model(model_data)"
   ]
  },
  {
   "cell_type": "code",
   "execution_count": 8,
   "metadata": {
    "colab": {
     "base_uri": "https://localhost:8080/"
    },
    "id": "jn53tegr-7yi",
    "outputId": "ed939f88-d5b1-49fe-e216-6359848df99f"
   },
   "outputs": [
    {
     "name": "stdout",
     "output_type": "stream",
     "text": [
      "Index(['Income', 'Disposable_Income', 'Essential_Expenses',\n",
      "       'Non_Essential_Expenses', 'Total_Expenses_to_Income_Ratio',\n",
      "       'Desired_Savings_Percentage', 'Savings_Efficiency',\n",
      "       'Potential_Savings_Groceries', 'Potential_Savings_Transport',\n",
      "       'Potential_Savings_Eating_Out', 'Potential_Savings_Entertainment',\n",
      "       'Calculated_Savings_Efficiency', 'Savings_Target_Achieved'],\n",
      "      dtype='object')\n"
     ]
    }
   ],
   "source": [
    "print(model_data.columns)"
   ]
  },
  {
   "cell_type": "code",
   "execution_count": 9,
   "metadata": {
    "colab": {
     "base_uri": "https://localhost:8080/",
     "height": 1000
    },
    "id": "r4riO6XlHopn",
    "outputId": "18be7bb6-478d-4539-f3a2-013c44e5c24f"
   },
   "outputs": [
    {
     "name": "stdout",
     "output_type": "stream",
     "text": [
      "Model Accuracy: 0.9960\n",
      "\n",
      "Classification Report:\n",
      "               precision    recall  f1-score   support\n",
      "\n",
      "           0       0.71      0.91      0.80        35\n",
      "           1       1.00      1.00      1.00      3963\n",
      "\n",
      "    accuracy                           1.00      3998\n",
      "   macro avg       0.86      0.96      0.90      3998\n",
      "weighted avg       1.00      1.00      1.00      3998\n",
      "\n",
      "\n",
      "Confusion Matrix:\n",
      " [[  32    3]\n",
      " [  13 3950]]\n",
      "\n",
      "Feature Importance:\n",
      "                             Feature  Importance\n",
      "1                 Disposable_Income    0.918440\n",
      "7       Potential_Savings_Groceries    0.040199\n",
      "4    Total_Expenses_to_Income_Ratio    0.035699\n",
      "8       Potential_Savings_Transport    0.004653\n",
      "9      Potential_Savings_Eating_Out    0.001009\n",
      "0                            Income    0.000000\n",
      "2                Essential_Expenses    0.000000\n",
      "3            Non_Essential_Expenses    0.000000\n",
      "5        Desired_Savings_Percentage    0.000000\n",
      "6     Calculated_Savings_Efficiency    0.000000\n",
      "10  Potential_Savings_Entertainment    0.000000\n"
     ]
    },
    {
     "data": {
      "image/png": "[encoded data removed]",
      "text/plain": [
       "<Figure size 800x500 with 1 Axes>"
      ]
     },
     "metadata": {},
     "output_type": "display_data"
    },
    {
     "name": "stdout",
     "output_type": "stream",
     "text": [
      "\n",
      "Savings Efficiency Scores:\n",
      "          Income  Calculated_Savings_Efficiency\n",
      "0   44637.249636                       0.018169\n",
      "1   26858.596592                       0.050317\n",
      "2   50367.605084                       0.019703\n",
      "3  101455.600247                       0.018939\n",
      "4   24875.283548                       0.033433\n"
     ]
    }
   ],
   "source": [
    "feature_columns = ['Income', 'Disposable_Income', 'Essential_Expenses', 'Non_Essential_Expenses',\n",
    "                   'Total_Expenses_to_Income_Ratio', 'Desired_Savings_Percentage', 'Calculated_Savings_Efficiency',\n",
    "                   'Potential_Savings_Groceries', 'Potential_Savings_Transport',\n",
    "                   'Potential_Savings_Eating_Out', 'Potential_Savings_Entertainment']\n",
    "\n",
    "\n",
    "y_pred = evaluate_model(dt_model, X_test, y_test, model_data, feature_columns)  # Pass all required arguments"
   ]
  },
  {
   "cell_type": "code",
   "execution_count": 10,
   "metadata": {
    "colab": {
     "base_uri": "https://localhost:8080/"
    },
    "id": "KkUkiGk_HqXv",
    "outputId": "f6ecbd3b-85bd-49b0-d473-b66aa5735144"
   },
   "outputs": [
    {
     "name": "stdout",
     "output_type": "stream",
     "text": [
      "Predictions saved to 'predictions.csv' with Savings Efficiency Score.\n"
     ]
    }
   ],
   "source": [
    "predict_new_data(data_path)  # Predict savings targets and save results"
   ]
  },
  {
   "cell_type": "code",
   "execution_count": 11,
   "metadata": {
    "colab": {
     "base_uri": "https://localhost:8080/"
    },
    "id": "dWKIWtqkIBj7",
    "outputId": "e92b2d3e-8b94-4ed5-a7e1-b63f7d65e088"
   },
   "outputs": [
    {
     "name": "stdout",
     "output_type": "stream",
     "text": [
      "count    19986.000000\n",
      "mean         0.029552\n",
      "std          0.015395\n",
      "min          0.000077\n",
      "25%          0.017918\n",
      "50%          0.027521\n",
      "75%          0.039006\n",
      "max          0.094620\n",
      "Name: Calculated_Savings_Efficiency, dtype: float64\n"
     ]
    }
   ],
   "source": [
    "print(model_data['Calculated_Savings_Efficiency'].describe())"
   ]
  },
  {
   "cell_type": "code",
   "execution_count": 12,
   "metadata": {
    "colab": {
     "base_uri": "https://localhost:8080/"
    },
    "id": "a6Tr1z18_exz",
    "outputId": "2e5392a7-350a-43a3-8660-27b9c6f39b69"
   },
   "outputs": [
    {
     "name": "stdout",
     "output_type": "stream",
     "text": [
      "             Income  Disposable_Income  Essential_Expenses  \\\n",
      "6785   51994.543780       14909.912475        22641.157773   \n",
      "11142  62173.136021        7332.990346        43982.853199   \n",
      "\n",
      "       Non_Essential_Expenses  Total_Expenses_to_Income_Ratio  \\\n",
      "6785              6334.637018                        0.691487   \n",
      "11142             4362.368744                        0.839140   \n",
      "\n",
      "       Desired_Savings_Percentage  Savings_Efficiency  \\\n",
      "6785                    14.504491            0.286759   \n",
      "11142                   11.080485            0.117945   \n",
      "\n",
      "       Potential_Savings_Groceries  Potential_Savings_Transport  \\\n",
      "6785                    619.091434                   674.137453   \n",
      "11142                   981.056754                   747.344294   \n",
      "\n",
      "       Potential_Savings_Eating_Out  Potential_Savings_Entertainment  \\\n",
      "6785                     129.666291                       636.329607   \n",
      "11142                    445.548187                       370.152554   \n",
      "\n",
      "       Calculated_Savings_Efficiency  Savings_Target_Achieved  \n",
      "6785                        0.019770                        1  \n",
      "11142                       0.010644                        1  \n"
     ]
    }
   ],
   "source": [
    "sample_data = model_data.sample(n=2)  # Select 2 random rows from your dataset\n",
    "print(sample_data)"
   ]
  },
  {
   "cell_type": "code",
   "execution_count": 13,
   "metadata": {
    "colab": {
     "base_uri": "https://localhost:8080/"
    },
    "id": "PIjH0-EGATu4",
    "outputId": "a5310cd2-439e-4c7b-8e32-29c8cf1f3c89"
   },
   "outputs": [
    {
     "name": "stdout",
     "output_type": "stream",
     "text": [
      "   Income  Disposable_Income  Essential_Expenses  Non_Essential_Expenses  \\\n",
      "0  250000             150000               50000                   30000   \n",
      "\n",
      "   Total_Expenses_to_Income_Ratio  Desired_Savings_Percentage  \\\n",
      "0                            0.32                        0.15   \n",
      "\n",
      "   Calculated_Savings_Efficiency  Potential_Savings_Groceries  \\\n",
      "0                            0.1                          500   \n",
      "\n",
      "   Potential_Savings_Transport  Potential_Savings_Eating_Out  \\\n",
      "0                          700                          1200   \n",
      "\n",
      "   Potential_Savings_Entertainment  \n",
      "0                             1500  \n"
     ]
    }
   ],
   "source": [
    "# Define an unusual input, simulating a new financial scenario\n",
    "out_of_box_input = pd.DataFrame({\n",
    "    'Income': [250000],  # Very high income\n",
    "    'Disposable_Income': [150000],  # Large disposable income\n",
    "    'Essential_Expenses': [50000],  # High essential expenses\n",
    "    'Non_Essential_Expenses': [30000],  # Unusually structured non-essentials\n",
    "    'Total_Expenses_to_Income_Ratio': [0.32],  # Low expense ratio\n",
    "    'Desired_Savings_Percentage': [0.15],  # Slightly higher than typical\n",
    "    'Calculated_Savings_Efficiency': [0.1],  # Higher efficiency\n",
    "    'Potential_Savings_Groceries': [500],\n",
    "    'Potential_Savings_Transport': [700],\n",
    "    'Potential_Savings_Eating_Out': [1200],\n",
    "    'Potential_Savings_Entertainment': [1500]\n",
    "})\n",
    "print(out_of_box_input)"
   ]
  },
  {
   "cell_type": "code",
   "execution_count": 14,
   "metadata": {
    "colab": {
     "base_uri": "https://localhost:8080/"
    },
    "id": "OVfMMomdAZra",
    "outputId": "ad8fef8d-099d-4f18-d42e-86bfb439e95f"
   },
   "outputs": [
    {
     "name": "stdout",
     "output_type": "stream",
     "text": [
      "Dataset Predictions: [1 1]\n",
      "Out-of-Box Predictions: [1]\n"
     ]
    }
   ],
   "source": [
    "dataset_preds = dt_model.predict(sample_data[feature_columns])\n",
    "out_of_box_preds = dt_model.predict(out_of_box_input[feature_columns])\n",
    "\n",
    "print(\"Dataset Predictions:\", dataset_preds)\n",
    "print(\"Out-of-Box Predictions:\", out_of_box_preds)"
   ]
  },
  {
   "cell_type": "code",
   "execution_count": 15,
   "metadata": {
    "colab": {
     "base_uri": "https://localhost:8080/"
    },
    "id": "SEZE0jncAbX0",
    "outputId": "31bf3148-c00a-4bc2-ea38-7a141122b5a8"
   },
   "outputs": [
    {
     "name": "stdout",
     "output_type": "stream",
     "text": [
      "Prediction: [1]\n"
     ]
    }
   ],
   "source": [
    "test_low_income = pd.DataFrame({\n",
    "    'Income': [18000], 'Disposable_Income': [2000], 'Essential_Expenses': [15000],\n",
    "    'Non_Essential_Expenses': [2000], 'Total_Expenses_to_Income_Ratio': [0.95],\n",
    "    'Desired_Savings_Percentage': [0.2], 'Calculated_Savings_Efficiency': [0.02],\n",
    "    'Potential_Savings_Groceries': [50], 'Potential_Savings_Transport': [40],\n",
    "    'Potential_Savings_Eating_Out': [30], 'Potential_Savings_Entertainment': [10]\n",
    "})\n",
    "print(\"Prediction:\", dt_model.predict(test_low_income))"
   ]
  },
  {
   "cell_type": "code",
   "execution_count": 16,
   "metadata": {
    "colab": {
     "base_uri": "https://localhost:8080/"
    },
    "id": "8Y0yV5E7A1im",
    "outputId": "b50516ca-3b0a-45ea-a5ba-f71053b20162"
   },
   "outputs": [
    {
     "name": "stdout",
     "output_type": "stream",
     "text": [
      "Prediction: [0]\n"
     ]
    }
   ],
   "source": [
    "# Simulating a financially struggling user scenario\n",
    "low_savings_input = pd.DataFrame({\n",
    "    'Income': [15000],  # Low income\n",
    "    'Disposable_Income': [1000],  # Minimal disposable income\n",
    "    'Essential_Expenses': [12000],  # High essential expenses\n",
    "    'Non_Essential_Expenses': [3000],  # Uncontrolled spending\n",
    "    'Total_Expenses_to_Income_Ratio': [0.95],  # Expenses take up most of income\n",
    "    'Desired_Savings_Percentage': [0.2],  # Wants to save 20% but can't\n",
    "    'Calculated_Savings_Efficiency': [0.01],  # Almost no efficiency in savings\n",
    "    'Potential_Savings_Groceries': [50],\n",
    "    'Potential_Savings_Transport': [40],\n",
    "    'Potential_Savings_Eating_Out': [30],\n",
    "    'Potential_Savings_Entertainment': [10]\n",
    "})\n",
    "\n",
    "# Predict savings achievement\n",
    "prediction = dt_model.predict(low_savings_input[feature_columns])\n",
    "print(\"Prediction:\", prediction)"
   ]
  }
 ],
 "metadata": {
  "colab": {
   "provenance": []
  },
  "kernelspec": {
   "display_name": "Python [conda env:base] *",
   "language": "python",
   "name": "conda-base-py"
  },
  "language_info": {
   "codemirror_mode": {
    "name": "ipython",
    "version": 3
   },
   "file_extension": ".py",
   "mimetype": "text/x-python",
   "name": "python",
   "nbconvert_exporter": "python",
   "pygments_lexer": "ipython3",
   "version": "3.12.7"
  }
 },
 "nbformat": 4,
 "nbformat_minor": 4
}
